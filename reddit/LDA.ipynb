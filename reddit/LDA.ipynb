{
 "cells": [
  {
   "cell_type": "code",
   "execution_count": 20,
   "metadata": {},
   "outputs": [
    {
     "name": "stderr",
     "output_type": "stream",
     "text": [
      "[nltk_data] Downloading package stopwords to\n",
      "[nltk_data]     /home/alireza/nltk_data...\n",
      "[nltk_data]   Package stopwords is already up-to-date!\n",
      "[nltk_data] Downloading package punkt to /home/alireza/nltk_data...\n",
      "[nltk_data]   Package punkt is already up-to-date!\n"
     ]
    },
    {
     "name": "stdout",
     "output_type": "stream",
     "text": [
      "2529\n",
      "1770\n",
      "1573\n"
     ]
    }
   ],
   "source": [
    "import nltk\n",
    "import pandas as pd\n",
    "from nltk.corpus import stopwords\n",
    "from nltk.stem import PorterStemmer\n",
    "from nltk.stem import WordNetLemmatizer\n",
    "from sklearn.feature_extraction.text import TfidfVectorizer\n",
    "from sklearn.metrics.pairwise import cosine_similarity\n",
    "import re\n",
    "\n",
    "\n",
    "nltk.download('stopwords')\n",
    "nltk.download('punkt')\n",
    "\n",
    "df = pd.read_csv('./mining/reddit_clean.csv')\n",
    "df['text'] = df['title'].fillna('') + ' ' + df['selftext'].fillna('')\n",
    "\n",
    "df = df[df['created_utc'] >= 1677654056]\n",
    "\n",
    "stop_words = set(stopwords.words('english'))\n",
    "stemmer = PorterStemmer()\n",
    "lemmatizer = WordNetLemmatizer()\n",
    "\n",
    "# Removing stopwords, special characters and applying stemming & lemmatization\n",
    "def preprocess_text(text):\n",
    "    text = re.sub(r'[^\\w\\s]', '', text)\n",
    "    words = text.split()\n",
    "    words = [word.lower() for word in words if word.lower() not in stop_words]\n",
    "    words = [stemmer.stem(word) for word in words]\n",
    "    words = [lemmatizer.lemmatize(word) for word in words]\n",
    "    return ' '.join(words)\n",
    "\n",
    "new_df = df.copy()\n",
    "new_df = new_df[new_df['subreddit'] != 'Vancouver4Friends']\n",
    "\n",
    "new_df['clean_text'] = df['text'].apply(preprocess_text)\n",
    "new_df['token_count'] = new_df['clean_text'].apply(lambda x: len(x.split()))\n",
    "print(len(new_df))\n",
    "new_df = new_df[new_df['token_count'] >= 10]\n",
    "print(len(new_df))\n",
    "\n",
    "# Compute similarity matrix and remove highly similar rows\n",
    "vectorizer = TfidfVectorizer()\n",
    "tfidf_matrix = vectorizer.fit_transform(new_df['clean_text'])\n",
    "cosine_sim = cosine_similarity(tfidf_matrix)\n",
    "\n",
    "threshold = 0.80  # You can adjust this value based on your preference\n",
    "to_drop = set()\n",
    "\n",
    "for i in range(len(new_df)):\n",
    "    for j in range(i+1, len(new_df)):\n",
    "        if cosine_sim[i][j] > threshold:\n",
    "            to_drop.add(j)\n",
    "\n",
    "new_df = new_df.drop(new_df.index[list(to_drop)])\n",
    "\n",
    "print(len(new_df))"
   ]
  },
  {
   "cell_type": "code",
   "execution_count": 21,
   "metadata": {},
   "outputs": [
    {
     "name": "stderr",
     "output_type": "stream",
     "text": [
      "[nltk_data] Downloading package stopwords to\n",
      "[nltk_data]     /home/alireza/nltk_data...\n",
      "[nltk_data]   Package stopwords is already up-to-date!\n",
      "[nltk_data] Downloading package wordnet to /home/alireza/nltk_data...\n",
      "[nltk_data]   Package wordnet is already up-to-date!\n"
     ]
    },
    {
     "name": "stdout",
     "output_type": "stream",
     "text": [
      "1573\n",
      "1573\n"
     ]
    }
   ],
   "source": [
    "# LDA\n",
    "\n",
    "import pandas as pd\n",
    "import matplotlib.pyplot as plt\n",
    "from nltk.corpus import stopwords\n",
    "from nltk.tokenize import word_tokenize\n",
    "from gensim.corpora import Dictionary\n",
    "from gensim.models import LdaModel, CoherenceModel\n",
    "\n",
    "nltk.download('stopwords')  # Download stopwords\n",
    "nltk.download('wordnet')  # Download wordnet for lemmatization\n",
    "stop_words = set(stopwords.words('english'))\n",
    "stemmer = PorterStemmer()\n",
    "lemmatizer = WordNetLemmatizer()\n",
    "\n",
    "# Removing stopwords, special characters and applying stemming & lemmatization\n",
    "def preprocess_text(text):\n",
    "    text = re.sub(r'[^\\w\\s]', '', text)\n",
    "    words = text.split()\n",
    "    words = [word.lower() for word in words if word.lower() not in stop_words]\n",
    "    words = [stemmer.stem(word) for word in words]\n",
    "    words = [lemmatizer.lemmatize(word) for word in words]\n",
    "    return ' '.join(words)\n",
    "\n",
    "new_df['lda_text'] = df['text'].apply(preprocess_text)\n",
    "new_df['lda_token_count'] = new_df['lda_text'].apply(lambda x: len(x.split()))\n",
    "print(len(new_df))\n",
    "# new_df = new_df[new_df['lda_token_count'] >= 50]\n",
    "print(len(new_df))\n",
    "new_df['tokens'] = new_df['lda_text'].apply(lambda x: [word for word in word_tokenize(x.lower()) if word.isalnum() and word not in stop_words])\n",
    "\n"
   ]
  },
  {
   "cell_type": "code",
   "execution_count": null,
   "metadata": {},
   "outputs": [],
   "source": [
    "dictionary = Dictionary(new_df['tokens'])\n",
    "corpus = [dictionary.doc2bow(text) for text in new_df['tokens']]\n",
    "\n",
    "# Finding the optimal number of topics\n",
    "coherence_values = []\n",
    "model_list = []\n",
    "topic_nums = range(2, 16)  # Adjust the range as needed\n",
    "\n",
    "for num_topics in topic_nums:\n",
    "    model = LdaModel(corpus, num_topics=num_topics, id2word=dictionary, passes=15)\n",
    "    model_list.append(model)\n",
    "    coherence_model = CoherenceModel(model=model, texts=new_df['tokens'], dictionary=dictionary, coherence='c_v')\n",
    "    coherence_values.append(coherence_model.get_coherence())\n"
   ]
  },
  {
   "cell_type": "code",
   "execution_count": 10,
   "metadata": {},
   "outputs": [
    {
     "data": {
      "text/plain": [
       "[0.6017079223800166,\n",
       " 0.519359911718126,\n",
       " 0.4869570486843995,\n",
       " 0.44717692735490244,\n",
       " 0.4199659256472317,\n",
       " 0.41830788306885186,\n",
       " 0.39684964538502177,\n",
       " 0.3920011432140865,\n",
       " 0.3765014449085136,\n",
       " 0.381613576990825,\n",
       " 0.362341660998913,\n",
       " 0.36546098750441275,\n",
       " 0.41274037054343155,\n",
       " 0.3804055311495296]"
      ]
     },
     "execution_count": 10,
     "metadata": {},
     "output_type": "execute_result"
    }
   ],
   "source": [
    "coherence_values"
   ]
  },
  {
   "cell_type": "code",
   "execution_count": 24,
   "metadata": {},
   "outputs": [
    {
     "name": "stdout",
     "output_type": "stream",
     "text": [
      "Topic #0\n",
      "william lake tribun wildfir depart near chilcotin countri respond mycariboonowcom\n",
      "Top 3 documents for this topic:\n",
      "Document #1361:\n",
      "williams lake has a new firessmart coordinator - williams lake tribune - williams lake tribune  \n",
      "Document #1497:\n",
      "wildfire near williams lake being actioned by bc wildfire services - williams lake tribune - williams lake tribune  \n",
      "Document #1532:\n",
      "b.c. wildfire responding to wildfire north of clinton - williams lake tribune - williams lake tribune  \n",
      "------\n",
      "Topic #1\n",
      "im like know look peopl thank anyon water time dont\n",
      "Top 3 documents for this topic:\n",
      "Document #419:\n",
      "how to find safe/affordable housing for a senior who might resist? advice desperately needed, please. my father is a proud man in his mid-seventies in poor health. he has heart issues as well as some mobility issues (can walk, but has fallen and been unable to get up). he owns his own home on vancouver island in a smaller suburb, but it's in terrible shape as he is in no condition to keep the property in check (bordering on a hoarder situation, cobwebs everywhere, overgrown yard, etc.). the frontage is limited, but if you saw the back yard, you'd think the place was abandoned. i live on the mainland and am his only child relatively nearby. he is stubborn and suffers from mild agoraphobia and anxiety. but the thing i'm struggling the most to deal with is that he is not taking care of himself/his property. he is hugely avoidant (the mail piles up unopened for years). he's had his power shut off twice in the last year, leaving him scrambling to get it turned back on (he is a boomer and isn't great with technology to the point he couldn't figure out how to dial outside numbers on the cell phone he has). what scared me the most was last summer when his power went off the first time. he fell in his garage and smacked his head to the point that blood was everywhere. because he has cordless handsets, he couldn't use his landline to get help. he managed to finally prop himself up and crawl into his car and drove 45 minutes down the island highway to the nearest hospital. we only found out because i keep tabs on him and, when i couldn't find him, i called around to the nearby hospitals. this was utterly terrifying as he was in loads of danger with no way to reach out. and because i'm in the city, i have no way to get to him quickly/easily. getting his power turned back on (due to privacy restrictions with bc hydro) was a huge ordeal. i've offered to take on his utilities logins so i can keep on top of the payments and he insists that he will get autopay set up. he claims to have done this, but then his power got shut off again this morning and he managed to get ahold of me on his cell phone so i could merge in a call to bc hydro to get it set back up and turned on again. this has also happened with his internet and other utilities in the past. when my husband and i went to visit him for his birthday, i was horrified to discover that his auto insurance had expired three months earlier and he had been driving around uninsured. we marched him straight to icbc and got that fixed while we were there, but we can't count on him to be upfront about these things when we aren't (he only allows us to visit 1-2x per year). he owns his house outright, but has no income or significant savings. the house (a modest bungalow) is too much for him to manage and is costing him too much to heat/power/take care of. he forgot to fill out some important municipal forms/tax stuff and came \\*thisclose\\* to having the government selling his house out from underneath him. this isn't dementia or alzheimers - he just avoids a lot of these important tasks due to anxiety/depression. due to his health and (what i feel to be) the danger he poses to himself, i want to move him over to the mainland and get him into some sort of supportive housing for seniors. he doesn't need ltc (yet), but he needs an affordable option for seniors where he could maintain some independence, but also have me close enough by that i could get to him within an hour or two if something were to happen (and to keep on top of his living situation so it doesn't spiral out of control). the problem is that he thinks everything is fine and should keep on as it is. he shuts down any and every conversation that i try to broach with him about how his current way of living isn't working. which breaks my heart and has me swooping in to save him when these incidents happen. and i guess he's able-bodied enough that i can't force him to move. but even as-is, his house would need to be cleared out, repainted and fixed up before it could be sold. i want him to do that, live off the proceeds and rent for the rest of his life, but he claims he doesn't want to do that so he has something to leave me and my siblings (we are absolutely fine and do not need his money or assets). a house in a small suburb (of mainly retirees) on the island is obviously worth a fraction of vancouver prices, so he wouldn't be able to sell there and buy here. and rents here are out of control. he also doesn't really like vancouver (he has baggage), but i think i could get him set up in an older one-bedroom rental in white rock, squamish or maybe maple ridge? ultimately, i could really use some perspective and advice from anyone else who has experienced anything similar with elderly parents. i am woefully unfamiliar with the legal parameters as well as where to go and what to do. i'm sure that any affordable seniors housing has a significant waitlist, but i don't know where to start and googling has left me more confused than ever. and i don't want to take away his agency, but i also can't leave things as they are as he is apt to get hurt or worse. if anyone can offer up guidance or resources or even point me in the right direction of where to start looking, i'd be eternally grateful. i'm overwhelmed with my own life and work and so stressed and scared for him (not to mention the daunting feeling of trying to find affordable/available seniors housing in the lower mainland which is already outrageously expensive with inflation to boot). sorry this is so long, thank you so much for reading.\n",
      "Document #1006:\n",
      "things to do for a solo traveler in and around kelowna? i posted a couple days ago about the wildfires and i've been told i'm in the clear to come visit! i've got a few things planned out for my trip already but i'm looking to fill a couple days. i'm a solo male in my late 20s so keep in mind it has to be solo friendly and i don't mind if i have to drive a couple hours to get somewhere. i'm basically looking for a locals view on what's good to do in the area. just to help out with recommendations, i'm looking to do some hiking or other outdoors activities like beginner mountain biking and kayaking, i'm a really big foodie so any hidden gems would be lovely, i'm hoping to enjoy the nightlife a bit as well i've heard good things about a place called bna but nothing else. everybody has been so helpful and friendly on my last post so i'm getting really excited for my visit! any suggestions would be very appreciated!! thanks everyone!!\n",
      "Document #159:\n",
      "no-car roadtrip / bus trip between quebec and the maritimes? hello! just looking for some pointers / tips / tricks if anyone has something interesting to share about this. i'm a young guy living in quebec looking for a plan for a couple of weeks off this summer and can't really afford to fly abroad, so i figured i'd visit the rest of canada! because of wildfires, my family won't let me go further west, so my only option is to pass through the eastern townships, new brunswick, and possibly nova scotia, and then head back (since i suppose it's a bit optimistic to think i could perhaps visit pei in that single trip as well) i'm planning on taking 2 weeks off work, but i need to decide on the best dates for such a trip. i don't have a driver's license or a friend who would be interested in coming along, and really want a solo travel experience honestly, so my options for transport are: - bus - train (i don't even know if it's feasible for my destinations) - hitchhiking (i feel like it would be safe enough for a man, but could be wrong) i also don't know what to expect in terms of places to sleep. are there youth hostels around these parts? would really appreciate any input from people who have either done solo travelling in canada or have done a similar itinerary and might have recommendations in terms of towns and parks to visit! thanks in a advance! :)\n",
      "------\n",
      "Topic #2\n",
      "cariboo observ quesnel centr wildfir burn region ban northern categori\n",
      "Top 3 documents for this topic:\n",
      "Document #1507:\n",
      "smoky skies throughout cariboo due to northern wildfires - quesnel cariboo observer - quesnel - cariboo observer  \n",
      "Document #1372:\n",
      "campfire ban coming soon to cariboo fire centre - quesnel cariboo observer - quesnel - cariboo observer  \n",
      "Document #1525:\n",
      "rain helps bring south cariboo wildfires under control - quesnel cariboo observer - quesnel - cariboo observer  \n",
      "------\n",
      "Topic #3\n",
      "bc wildfir servic globalnewsca burn canada say season amid vancouv\n",
      "Top 3 documents for this topic:\n",
      "Document #682:\n",
      "4 bc wildfire service sub-contractors killed in collision on b.c. highway: rcmp  \n",
      "Document #335:\n",
      "high temperatures in b.c. pose 'threat of new wildfires,' wildfire service warns  \n",
      "Document #732:\n",
      "donnie creek wildfire is now one of the largest recorded in b.c.'s history | blaze north of fort st. john has burned over 2,400 sq. km of land, b.c. wildfire service says  \n",
      "------\n",
      "Topic #4\n",
      "smoke air qualiti smell anyon today come weekend outsid know\n",
      "Top 3 documents for this topic:\n",
      "Document #863:\n",
      "the smokanagan song (to the tune of [jump in the line]( smoke, smoke, smokanagan, smokey all the time. smoke, smoke, smokanagan, climate change is a lie! i went to see my in-laws, they live right by a lake. they vote for right wing weirdos, and that was their first mistake. smoke, smoke, smokanagan, smokey all the time. smoke, smoke, smokanagan, climate change is a lie! i asked them about the fires, they say it's the natural course. they ask when we're having children, while flames consume the forest. smoke, smoke, smokanagan, smokey all the time. smoke, smoke, smokanagan, climate change is a lie! the lakes are warm and inviting, the wines are complex and deep. but there's million dollar homes on the treeline, and no where cheap to sleep. smoke, smoke, smokanagan, smokey all the time. smoke, smoke, smokanagan, climate change is a lie! i see it driving cross the bridge, there's more and more people in tents. i cringe to see that awful sign: \"landlords, get rent!\" smoke, smoke, smokanagan, smokey all the time. smoke, smoke, smokanagan, climate change is a lie! the cost of housing keeps growing, more rich albertans each day. but the retirees all have their nest egg, so they've got nothing to say. but... smoke, smoke, smokanagan, smokey all the time. smoke, smoke, smokanagan, climate change is a lie!\n",
      "Document #1260:\n",
      "smoke in the air? anyone know where all the smoke is coming from? getting pretty hard to be outside, seems to be coming from around topaz park area.\n",
      "Document #453:\n",
      "anyone smell smoke? i smell smoke and sky was hazy but i don’t see any mention or hazard air quality reporting. anyone else?\n",
      "------\n",
      "Topic #5\n",
      "cach journal ashcroft creek cariboo centr wildfir campfir northern ban\n",
      "Top 3 documents for this topic:\n",
      "Document #1375:\n",
      "campfire ban coming soon to cariboo fire centre - ashcroft cache creek journal - ashcroft cache creek journal  \n",
      "Document #1508:\n",
      "smoky skies throughout the cariboo due to northern wildfires - ashcroft cache creek journal - ashcroft cache creek journal  \n",
      "Document #1559:\n",
      "campfire ban in effect for entire province except haida gwaii - ashcroft cache creek journal - ashcroft cache creek journal  \n",
      "------\n",
      "Topic #6\n",
      "mile 100 press free ban centr campfir cariboo region lift\n",
      "Top 3 documents for this topic:\n",
      "Document #1373:\n",
      "campfire ban coming soon to cariboo fire centre - 100 mile free press  \n",
      "Document #1561:\n",
      "campfire ban comes into effect across cariboo region - 100 mile free press  \n",
      "Document #1352:\n",
      "two active wildfires in the cariboo fire centre - 100 mile free press  \n",
      "------\n",
      "Topic #7\n",
      "evacu order alert issu wildfir central emerg properti area provinc\n",
      "Top 3 documents for this topic:\n",
      "Document #1100:\n",
      "understanding wildfire evacuation orders and alerts, and where to get the information you need with evacuations happening in other parts of the province, thought this might be useful.\n",
      "Document #1010:\n",
      "some lake country properties downgraded from evacuation order to evacuation alert # some lake country properties downgraded from evacuation order to evacuation alert wednesday, august 23, 2023 - 14:25 [lake country wildfire]( [more info]( additional information for [returning home after a wildfire](\n",
      "Document #60:\n",
      "fire evacuation order issued in central alberta, area near fort mcmurray on alert  \n",
      "------\n",
      "Topic #8\n",
      "news west kelowna coast mountain power wind spark line gusti\n",
      "Top 3 documents for this topic:\n",
      "Document #1549:\n",
      "gusty winds, downed power line sparks wildfire at riske creek west of williams lake - coast mountain news - coast mountain news  \n",
      "Document #1534:\n",
      "video: gusty winds, downed power line sparks wildfire west of williams lake - castlegar news  \n",
      "Document #1546:\n",
      "gusty winds, downed power line sparks wildfire at riske creek west of williams lake - goldstream news gazette - goldstream news gazette  \n",
      "------\n",
      "Topic #9\n",
      "question discus post share week thread selfpromot travel witsend monday\n",
      "Top 3 documents for this topic:\n",
      "Document #409:\n",
      "things to do thursdays - daily discussion welcome to /r/vancouver's things to do thursdays, a place for redditors to share and seek: * upcoming events; * volunteer opportunities; * education questions; and * job questions --- if you see commonly asked questions or posts throughout the week that you feel would be better suited to this discussion thread, please be sure to share the link to this week's post. --- [moving mondays]( | [travel tuesdays]( | [wits-end wednesdays]( | [things to do thursdays]( | [friendly fridays]( | [simple question saturdays]( | [self-promotion sundays](\n",
      "Document #412:\n",
      "moving mondays - daily discussion welcome to /r/vancouver's moving mondays, a place for redditors to share and seek: * moving questions; * neighbourhood-related questions; * rtb questions; * landlord questions; and * generic real estate discussion --- if you see commonly asked questions or posts throughout the week that you feel would be better suited to this discussion thread, please be sure to share the link to this week's post. --- [moving mondays]( | [travel tuesdays]( | [wits-end wednesdays]( | [things to do thursdays]( | [friendly fridays]( | [simple question saturdays]( | [self-promotion sundays](\n",
      "Document #408:\n",
      "friendly fridays - daily discussion welcome to /r/vancouver's friendly fridays, a place for redditors to share and seek: * dating advice; * r4r; * how to make friends discussion; and * share this weekend's events and activities --- if you see commonly asked questions or posts throughout the week that you feel would be better suited to this discussion thread, please be sure to share the link to this week's post. --- [moving mondays]( | [travel tuesdays]( | [wits-end wednesdays]( | [things to do thursdays]( | [friendly fridays]( | [simple question saturdays]( | [self-promotion sundays](\n",
      "------\n"
     ]
    }
   ],
   "source": [
    "from sklearn.decomposition import NMF\n",
    "import numpy as np\n",
    "\n",
    "vectorizer = TfidfVectorizer(max_df=0.95, min_df=2, stop_words='english')\n",
    "tfidf = vectorizer.fit_transform(new_df['lda_text'])\n",
    "\n",
    "# NMF Model\n",
    "n_topics = range(10, 11)  # Adjust the range as needed\n",
    "for n in n_topics:\n",
    "    nmf = NMF(n_components=n, random_state=1, init='nndsvd')\n",
    "    W = nmf.fit_transform(tfidf)\n",
    "    H = nmf.components_\n",
    "    \n",
    "    # Display topics and words (for demonstration)\n",
    "    feature_names = vectorizer.get_feature_names_out()\n",
    "    for topic_idx, topic in enumerate(H):\n",
    "        print(f\"Topic #{topic_idx}\")\n",
    "        print(\" \".join([feature_names[i] for i in topic.argsort()[:-10 - 1:-1]]))\n",
    "\n",
    "        # Get the top 3 documents for this topic\n",
    "        top_doc_indices = np.argsort( W[:,topic_idx] )[::-1][0:3]  # Sort the weights for the given topic in descending order and get the indices for the top 3 documents\n",
    "        print(\"Top 3 documents for this topic:\")\n",
    "        \n",
    "        for doc_index in top_doc_indices:\n",
    "            print(f\"Document #{doc_index}:\")\n",
    "            print(new_df.iloc[doc_index]['text'])  # Replace 'text' with whatever the name of the column containing your text data is\n",
    "        print(\"------\")"
   ]
  },
  {
   "cell_type": "code",
   "execution_count": 25,
   "metadata": {},
   "outputs": [
    {
     "data": {
      "text/plain": [
       "Index(['author', 'author_flair_text', 'created_utc', 'distiguished', 'edited',\n",
       "       'id', 'is_original_content', 'is_self', 'name', 'num_comments',\n",
       "       'over_18', 'permalink', 'score', 'selftext', 'subreddit', 'title',\n",
       "       'upvote_ratio', 'url', 'text', 'clean_text', 'token_count', 'lda_text',\n",
       "       'lda_token_count', 'tokens'],\n",
       "      dtype='object')"
      ]
     },
     "execution_count": 25,
     "metadata": {},
     "output_type": "execute_result"
    }
   ],
   "source": [
    "new_df.columns"
   ]
  }
 ],
 "metadata": {
  "kernelspec": {
   "display_name": "Python 3",
   "language": "python",
   "name": "python3"
  },
  "language_info": {
   "codemirror_mode": {
    "name": "ipython",
    "version": 3
   },
   "file_extension": ".py",
   "mimetype": "text/x-python",
   "name": "python",
   "nbconvert_exporter": "python",
   "pygments_lexer": "ipython3",
   "version": "3.10.12"
  },
  "orig_nbformat": 4,
  "vscode": {
   "interpreter": {
    "hash": "916dbcbb3f70747c44a77c7bcd40155683ae19c65e1c03b4aa3499c5328201f1"
   }
  }
 },
 "nbformat": 4,
 "nbformat_minor": 2
}
