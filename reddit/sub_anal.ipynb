{
 "cells": [
  {
   "cell_type": "code",
   "execution_count": null,
   "metadata": {},
   "outputs": [],
   "source": [
    "import pandas as pd\n",
    "import matplotlib.pyplot as plt\n",
    "from datetime import datetime\n",
    "\n",
    "# Sample DataFrame (Replace this with your actual DataFrame)\n",
    "df = pd.read_csv('reddit_topic.csv')\n",
    "\n",
    "# Convert 'created_utc' to a datetime object\n",
    "df['created_datetime'] = pd.to_datetime(df['created_utc'], unit='s')\n",
    "\n",
    "# Extract hour, weekday, and month from the datetime object\n",
    "df['hour'] = df['created_datetime'].dt.hour\n",
    "df['weekday'] = df['created_datetime'].dt.weekday\n",
    "df['month'] = df['created_datetime'].dt.month\n",
    "\n",
    "# Function to plot activity patterns\n",
    "def plot_activity(subreddit_name, time_unit):\n",
    "    subreddit_data = df[df['subreddit'] == subreddit_name]\n",
    "    \n",
    "    activity_count = subreddit_data[time_unit].value_counts().sort_index()\n",
    "    \n",
    "    plt.figure(figsize=(10, 6))\n",
    "    plt.bar(activity_count.index, activity_count.values, alpha=0.8)\n",
    "    \n",
    "    plt.title(f'Activity Time Distribution in {subreddit_name} by {time_unit}')\n",
    "    plt.xlabel(time_unit)\n",
    "    plt.ylabel('Number of Posts')\n",
    "    plt.show()\n",
    "\n",
    "# Example Usage:\n",
    "# To plot the activity by hour for subreddit named 'wildfire'\n",
    "plot_activity('wildfire', 'hour')\n",
    "\n",
    "# To plot the activity by weekday for subreddit named 'wildfire'\n",
    "plot_activity('wildfire', 'weekday')\n",
    "\n",
    "# To plot the activity by month for subreddit named 'wildfire'\n",
    "plot_activity('wildfire', 'month')"
   ]
  }
 ],
 "metadata": {
  "language_info": {
   "name": "python"
  },
  "orig_nbformat": 4
 },
 "nbformat": 4,
 "nbformat_minor": 2
}
