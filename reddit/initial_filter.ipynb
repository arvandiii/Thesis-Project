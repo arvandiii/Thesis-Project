{
 "cells": [
  {
   "cell_type": "code",
   "execution_count": 2,
   "metadata": {},
   "outputs": [],
   "source": [
    "input_file_name = './data/reddit_0.csv'"
   ]
  },
  {
   "cell_type": "code",
   "execution_count": 4,
   "metadata": {},
   "outputs": [
    {
     "data": {
      "text/plain": [
       "subreddit\n",
       "kelowna                 261\n",
       "Wildfire                258\n",
       "Blueridgerockfest        39\n",
       "GlobalOffensiveTrade     14\n",
       "Csgotrading              12\n",
       "                       ... \n",
       "dndbeyond                 1\n",
       "JamFranz                  1\n",
       "shortscarystories         1\n",
       "BrainFlushings            1\n",
       "Parenting                 1\n",
       "Name: count, Length: 688, dtype: int64"
      ]
     },
     "execution_count": 4,
     "metadata": {},
     "output_type": "execute_result"
    }
   ],
   "source": [
    "import pandas as pd\n",
    "\n",
    "reddit_data = pd.read_csv(input_file_name)\n",
    "reddit_data['subreddit'].value_counts()"
   ]
  },
  {
   "cell_type": "code",
   "execution_count": 11,
   "metadata": {},
   "outputs": [
    {
     "name": "stdout",
     "output_type": "stream",
     "text": [
      "subreddit\n",
      "weed                 7\n",
      "AlzheimersGroup      7\n",
      "HFY                  7\n",
      "Starfield            7\n",
      "trees                6\n",
      "                    ..\n",
      "dndbeyond            1\n",
      "JamFranz             1\n",
      "shortscarystories    1\n",
      "BrainFlushings       1\n",
      "Parenting            1\n",
      "Name: count, Length: 680, dtype: int64\n"
     ]
    }
   ],
   "source": [
    "unrelated_subreddits = ['Blueridgerockfest', 'GlobalOffensiveTrade', 'Csgotrading', 'Market76', 'NatureofPredators', 'Starfield', ]\n",
    "\n",
    "reddit_data = reddit_data[~reddit_data['subreddit'].isin(unrelated_subreddits)]\n",
    "print(reddit_data['subreddit'].value_counts()[3:])"
   ]
  }
 ],
 "metadata": {
  "kernelspec": {
   "display_name": "Python 3",
   "language": "python",
   "name": "python3"
  },
  "language_info": {
   "codemirror_mode": {
    "name": "ipython",
    "version": 3
   },
   "file_extension": ".py",
   "mimetype": "text/x-python",
   "name": "python",
   "nbconvert_exporter": "python",
   "pygments_lexer": "ipython3",
   "version": "3.9.6"
  },
  "orig_nbformat": 4
 },
 "nbformat": 4,
 "nbformat_minor": 2
}
